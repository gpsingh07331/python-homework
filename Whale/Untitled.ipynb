{
 "cells": [
  {
   "cell_type": "markdown",
   "metadata": {},
   "source": [
    "palindrome(\"mom\")\n",
    "# Output: True\n",
    "\n",
    "palindrome(\"mother\")\n",
    "# Output: False"
   ]
  },
  {
   "cell_type": "markdown",
   "metadata": {},
   "source": [
    "#Another example deed\n",
    "#Check if first character and the last character are same?\n",
    "#Create a new list with a string of characters starting from last character to first in that order\n",
    "#Compare the new list with the original list.\n",
    "# Create a function to accept \n",
    "# a string \n",
    "# check if first and last character are same? If false then retrun false\n",
    "# If true then create a for loop to reverse the order of string\n",
    "# Compare and if same then return true else false\n"
   ]
  },
  {
   "cell_type": "code",
   "execution_count": 31,
   "metadata": {},
   "outputs": [],
   "source": [
    "original_str=\"Never odd or even\""
   ]
  },
  {
   "cell_type": "code",
   "execution_count": 36,
   "metadata": {},
   "outputs": [
    {
     "data": {
      "text/plain": [
       "'N'"
      ]
     },
     "execution_count": 36,
     "metadata": {},
     "output_type": "execute_result"
    }
   ],
   "source": [
    "original_str[0]"
   ]
  },
  {
   "cell_type": "code",
   "execution_count": 45,
   "metadata": {},
   "outputs": [
    {
     "data": {
      "text/plain": [
       "17"
      ]
     },
     "execution_count": 45,
     "metadata": {},
     "output_type": "execute_result"
    }
   ],
   "source": [
    "len(original_str)"
   ]
  },
  {
   "cell_type": "code",
   "execution_count": 35,
   "metadata": {},
   "outputs": [
    {
     "data": {
      "text/plain": [
       "'n'"
      ]
     },
     "execution_count": 35,
     "metadata": {},
     "output_type": "execute_result"
    }
   ],
   "source": [
    "original_str[-1]"
   ]
  },
  {
   "cell_type": "code",
   "execution_count": 32,
   "metadata": {},
   "outputs": [
    {
     "data": {
      "text/plain": [
       "'neve ro ddo reveN'"
      ]
     },
     "execution_count": 32,
     "metadata": {},
     "output_type": "execute_result"
    }
   ],
   "source": [
    "original_str[::-1]"
   ]
  },
  {
   "cell_type": "code",
   "execution_count": 56,
   "metadata": {},
   "outputs": [],
   "source": [
    "def palindrome(strname):\n",
    "    original_str=list(strname)\n",
    "    if strname[0].lower()==strname[-1].lower():\n",
    "        new_str=[]\n",
    "        #count=len(strname) - 1\n",
    "        for count in range(len(original_str) -1):\n",
    "            new_str.append(original_str[count])\n",
    "            #count = count -1\n",
    "        if new_str==original_str:\n",
    "            print(\"True\")\n",
    "            print(new_str)\n",
    "        \n",
    "    else:\n",
    "        print(\"False\")"
   ]
  },
  {
   "cell_type": "code",
   "execution_count": 58,
   "metadata": {},
   "outputs": [],
   "source": [
    "palindrome(original_str)"
   ]
  },
  {
   "cell_type": "code",
   "execution_count": 55,
   "metadata": {},
   "outputs": [
    {
     "name": "stdout",
     "output_type": "stream",
     "text": [
      "0\n",
      "1\n",
      "2\n",
      "3\n",
      "4\n",
      "5\n",
      "6\n",
      "7\n",
      "8\n",
      "9\n",
      "10\n",
      "11\n",
      "12\n",
      "13\n",
      "14\n",
      "15\n",
      "16\n"
     ]
    }
   ],
   "source": [
    "for i in range(len(original_str)):\n",
    "    print (i)"
   ]
  },
  {
   "cell_type": "markdown",
   "metadata": {},
   "source": [
    "Write a function that prints the minimum and maximum elements from an list without using the min or max list functions.\n",
    "\n",
    "[12, 33, 41, 2, 61, 32, 75, 43, 67]"
   ]
  },
  {
   "cell_type": "code",
   "execution_count": 76,
   "metadata": {},
   "outputs": [],
   "source": [
    "num_list=[12, 33, 41, 2, 2, 32, 75, 43, 67,-1.0,10.0,1]"
   ]
  },
  {
   "cell_type": "markdown",
   "metadata": {},
   "source": [
    "# Create a function which accepts a list of integers\n",
    "#\n",
    "# for loop to iterate over the list\n",
    "# initialize the min and max variables\n",
    "#Store the first element as both min and max\n",
    "#Iterate and check the new element against the min and max variable\n",
    "#Use if condition to put the element in one of the variables\n"
   ]
  },
  {
   "cell_type": "code",
   "execution_count": 77,
   "metadata": {},
   "outputs": [],
   "source": [
    "def min_max(nlist):\n",
    "    min_num=nlist[0]\n",
    "    max_num=nlist[0]\n",
    "    for i in nlist:\n",
    "        if i > max_num:\n",
    "            max_num=i\n",
    "        elif i < min_num:\n",
    "            min_num=i\n",
    "    print(f\"minimum: {min_num}, maximum: {max_num}\")    "
   ]
  },
  {
   "cell_type": "code",
   "execution_count": 78,
   "metadata": {},
   "outputs": [
    {
     "name": "stdout",
     "output_type": "stream",
     "text": [
      "minimum: -1.0, maximum: 75\n"
     ]
    }
   ],
   "source": [
    "min_max(num_list)"
   ]
  }
 ],
 "metadata": {
  "kernelspec": {
   "display_name": "Python 3",
   "language": "python",
   "name": "python3"
  },
  "language_info": {
   "codemirror_mode": {
    "name": "ipython",
    "version": 3
   },
   "file_extension": ".py",
   "mimetype": "text/x-python",
   "name": "python",
   "nbconvert_exporter": "python",
   "pygments_lexer": "ipython3",
   "version": "3.7.3"
  }
 },
 "nbformat": 4,
 "nbformat_minor": 2
}
