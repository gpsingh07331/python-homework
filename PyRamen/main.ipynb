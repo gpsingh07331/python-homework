{
 "cells": [
  {
   "cell_type": "code",
   "execution_count": null,
   "metadata": {},
   "outputs": [],
   "source": [
    "#### Assignment\n",
    "\n",
    "-The total number of months included in the dataset.\n",
    "\n",
    "- The net total amount of Profit/Losses over the entire period.\n",
    "\n",
    "- The average of the changes in Profit/Losses over the entire period.\n",
    "\n",
    "- The greatest increase in profits (date and amount) over the entire period.\n",
    "\n",
    "- The greatest decrease in losses (date and amount) over the entire period."
   ]
  },
  {
   "cell_type": "code",
   "execution_count": null,
   "metadata": {},
   "outputs": [],
   "source": []
  }
 ],
 "metadata": {
  "kernelspec": {
   "display_name": "Python 3",
   "language": "python",
   "name": "python3"
  },
  "language_info": {
   "codemirror_mode": {
    "name": "ipython",
    "version": 3
   },
   "file_extension": ".py",
   "mimetype": "text/x-python",
   "name": "python",
   "nbconvert_exporter": "python",
   "pygments_lexer": "ipython3",
   "version": "3.7.3"
  }
 },
 "nbformat": 4,
 "nbformat_minor": 2
}
